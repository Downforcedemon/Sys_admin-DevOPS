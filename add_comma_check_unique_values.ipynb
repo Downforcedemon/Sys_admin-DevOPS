{
  "nbformat": 4,
  "nbformat_minor": 0,
  "metadata": {
    "colab": {
      "provenance": [],
      "authorship_tag": "ABX9TyM2yNZnVAuRgfgjlra8RgG1",
      "include_colab_link": true
    },
    "kernelspec": {
      "name": "python3",
      "display_name": "Python 3"
    },
    "language_info": {
      "name": "python"
    }
  },
  "cells": [
    {
      "cell_type": "markdown",
      "metadata": {
        "id": "view-in-github",
        "colab_type": "text"
      },
      "source": [
        "<a href=\"https://colab.research.google.com/github/Downforcedemon/Sys_admin-DevOPS/blob/main/add_comma_check_unique_values.ipynb\" target=\"_parent\"><img src=\"https://colab.research.google.com/assets/colab-badge.svg\" alt=\"Open In Colab\"/></a>"
      ]
    },
    {
      "cell_type": "code",
      "execution_count": 8,
      "metadata": {
        "colab": {
          "base_uri": "https://localhost:8080/"
        },
        "id": "VOtK0kt1kBG7",
        "outputId": "61be4ae2-524a-4aa1-b961-08700fe8e590"
      },
      "outputs": [
        {
          "output_type": "stream",
          "name": "stdout",
          "text": [
            "Unique values: ['3143814', '3144265', '3144275', '3144307', '3144374', '3144389', '3144495', '3144531', '3144771', '3144790', '3144816', '3144831', '3144860', '3144897', '3144959', '3144961', '3144963', '3144965', '3144976', '3144978', '3145008', '3145010', '3145012', '3145025', '3145036', '3145038', '3145042', '3145051', '3145058', '3145059', '3145063', '3145064', '3145077', '3145078', '3145079', '3145101', '3145107', '3145118', '3145119']\n",
            "Total count of unique values: 39\n"
          ]
        }
      ],
      "source": [
        "def extract_unique_values(data):\n",
        "    \"\"\"\n",
        "    Extract unique values from a multi-line input string.\n",
        "\n",
        "    Args:\n",
        "    data (str): Multi-line string containing numbers.\n",
        "\n",
        "    Returns:\n",
        "    list: Sorted list of unique values.\n",
        "    \"\"\"\n",
        "   # Split lines and filter out any empty lines\n",
        "    lines = data.split(\"\\n\")\n",
        "    values = [line.strip() for line in lines if line.strip().isdigit()]\n",
        "\n",
        "    # Use a set to remove duplicates\n",
        "    unique_values = sorted(set(values))\n",
        "\n",
        "    # Return unique values and their count\n",
        "    return unique_values, len(unique_values)\n",
        "\n",
        "# Input data\n",
        "data = \"\"\"\n",
        "add po numbers\n",
        "\n",
        "\"\"\"\n",
        "\n",
        "# Extract unique values and count\n",
        "# changed the name of the function to the correct function name\n",
        "unique_values, total_count = extract_unique_values(data)\n",
        "\n",
        "# Print unique values and total count\n",
        "print(\"Unique values:\", unique_values)\n",
        "print(\"Total count of unique values:\", total_count)"
      ]
    }
  ]
}