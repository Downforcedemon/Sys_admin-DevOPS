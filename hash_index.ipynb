{
 "cells": [
  {
   "cell_type": "code",
   "execution_count": 1,
   "metadata": {},
   "outputs": [],
   "source": [
    "import psycopg2\n",
    "import os"
   ]
  },
  {
   "cell_type": "code",
   "execution_count": 4,
   "metadata": {},
   "outputs": [],
   "source": [
    "os.environ['USERNAME'] = 'postgres'\n",
    "os.environ['PASSWORD'] = '<password>'"
   ]
  },
  {
   "cell_type": "code",
   "execution_count": 5,
   "metadata": {},
   "outputs": [],
   "source": [
    "USER = os.environ['USERNAME']\n",
    "PASSWORD = os.environ['PASSWORD']"
   ]
  },
  {
   "cell_type": "code",
   "execution_count": 6,
   "metadata": {},
   "outputs": [
    {
     "data": {
      "text/plain": [
       "'postgres'"
      ]
     },
     "execution_count": 6,
     "metadata": {},
     "output_type": "execute_result"
    }
   ],
   "source": [
    "USER"
   ]
  },
  {
   "cell_type": "code",
   "execution_count": 7,
   "metadata": {},
   "outputs": [
    {
     "data": {
      "text/plain": [
       "12"
      ]
     },
     "execution_count": 7,
     "metadata": {},
     "output_type": "execute_result"
    }
   ],
   "source": [
    "len(PASSWORD)"
   ]
  },
  {
   "cell_type": "code",
   "execution_count": 8,
   "metadata": {},
   "outputs": [],
   "source": [
    "conn = psycopg2.connect(\n",
    "    host='192.168.4.25',database='ecomm',\n",
    "                        user=USER,\n",
    "                        password=PASSWORD,\n",
    "                        port=5432)"
   ]
  },
  {
   "cell_type": "code",
   "execution_count": 10,
   "metadata": {},
   "outputs": [],
   "source": [
    "cursor = conn.cursor()"
   ]
  },
  {
   "cell_type": "code",
   "execution_count": 11,
   "metadata": {},
   "outputs": [],
   "source": [
    "cursor.execute(\"\"\"\n",
    "DROP TABLE IF EXISTS customer_accounts;\n",
    "\n",
    "CREATE TABLE customer_accounts (\n",
    "    account_id SERIAL PRIMARY KEY,\n",
    "    account_name VARCHAR(100) NOT NULL,\n",
    "    account_email VARCHAR(100) NOT NULL UNIQUE,\n",
    "    region VARCHAR(50)\n",
    ");\n",
    "\"\"\")"
   ]
  },
  {
   "cell_type": "code",
   "execution_count": 12,
   "metadata": {},
   "outputs": [],
   "source": [
    "# add data\n",
    "cursor.executemany(\"\"\"\n",
    "INSERT INTO customer_accounts (account_name, account_email, region)\n",
    "VALUES (%s, %s, %s);\n",
    "\"\"\", [\n",
    "    ('Alice', 'alice_account@example.com', 'USA'),\n",
    "    ('Bob', 'bob_account@example.com', 'Canada'),\n",
    "    ('Charlie', 'charlie_account@example.com', 'UK'),\n",
    "    ('Diana', 'diana_account@example.com', 'Australia'),\n",
    "    ('Eve', 'eve_account@example.com', 'India')\n",
    "])"
   ]
  },
  {
   "cell_type": "code",
   "execution_count": 13,
   "metadata": {},
   "outputs": [],
   "source": [
    "conn.commit()"
   ]
  },
  {
   "cell_type": "code",
   "execution_count": 14,
   "metadata": {},
   "outputs": [],
   "source": [
    "# create has index on account_email column\n",
    "cursor.execute(\"\"\"\n",
    "CREATE INDEX account_email_hash_idx ON customer_accounts USING hash(account_email);\n",
    "\"\"\")"
   ]
  },
  {
   "cell_type": "code",
   "execution_count": 17,
   "metadata": {},
   "outputs": [],
   "source": [
    "# Querying using the hash index\n",
    "query = \"\"\"\n",
    "Set enable_seqscan = off;\n",
    "EXPLAIN ANALYZE SELECT * FROM customer_accounts WHERE account_email = 'alice_account@example.com';\n",
    "\"\"\"\n",
    "cursor.execute(query)"
   ]
  },
  {
   "cell_type": "code",
   "execution_count": 18,
   "metadata": {},
   "outputs": [
    {
     "name": "stdout",
     "output_type": "stream",
     "text": [
      "('Index Scan using account_email_hash_idx on customer_accounts  (cost=0.00..8.02 rows=1 width=558) (actual time=4.235..4.237 rows=1 loops=1)',)\n",
      "(\"  Index Cond: ((account_email)::text = 'alice_account@example.com'::text)\",)\n",
      "('Planning Time: 0.073 ms',)\n",
      "('Execution Time: 4.250 ms',)\n"
     ]
    }
   ],
   "source": [
    "# fetching and displaying the query plan\n",
    "query_plan = cursor.fetchall()\n",
    "for line in query_plan:\n",
    "    print(line)"
   ]
  },
  {
   "cell_type": "code",
   "execution_count": 19,
   "metadata": {},
   "outputs": [],
   "source": [
    "query_enable_seqscan = \"\"\"\n",
    "SET enable_seqscan = ON;\n",
    "\"\"\"\n",
    "cursor.execute(query_enable_seqscan)"
   ]
  },
  {
   "cell_type": "code",
   "execution_count": null,
   "metadata": {},
   "outputs": [],
   "source": [
    "cursor.close()\n",
    "conn.close()"
   ]
  }
 ],
 "metadata": {
  "kernelspec": {
   "display_name": "myenv",
   "language": "python",
   "name": "python3"
  },
  "language_info": {
   "codemirror_mode": {
    "name": "ipython",
    "version": 3
   },
   "file_extension": ".py",
   "mimetype": "text/x-python",
   "name": "python",
   "nbconvert_exporter": "python",
   "pygments_lexer": "ipython3",
   "version": "3.12.3"
  }
 },
 "nbformat": 4,
 "nbformat_minor": 2
}
