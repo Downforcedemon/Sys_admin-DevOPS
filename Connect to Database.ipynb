{
 "cells": [
  {
   "cell_type": "code",
   "execution_count": 1,
   "metadata": {
    "collapsed": true
   },
   "outputs": [],
   "source": [
    "import psycopg2\n",
    "import os"
   ]
  },
  {
   "cell_type": "code",
   "execution_count": 2,
   "metadata": {
    "collapsed": true
   },
   "outputs": [],
   "source": [
    "os.environ['USERNAME'] = 'postgres'\n",
    "os.environ['PASSWORD'] = '<password>'"
   ]
  },
  {
   "cell_type": "code",
   "execution_count": 3,
   "metadata": {
    "collapsed": true
   },
   "outputs": [],
   "source": [
    "USER = os.environ['USERNAME']\n",
    "PASSWORD = os.environ['PASSWORD']"
   ]
  },
  {
   "cell_type": "code",
   "execution_count": 4,
   "metadata": {
    "collapsed": true
   },
   "outputs": [
    {
     "data": {
      "text/plain": [
       "'postgres'"
      ]
     },
     "execution_count": 4,
     "metadata": {},
     "output_type": "execute_result"
    }
   ],
   "source": [
    "USER"
   ]
  },
  {
   "cell_type": "code",
   "execution_count": 5,
   "metadata": {
    "collapsed": true
   },
   "outputs": [
    {
     "data": {
      "text/plain": [
       "12"
      ]
     },
     "execution_count": 5,
     "metadata": {},
     "output_type": "execute_result"
    }
   ],
   "source": [
    "len(PASSWORD)"
   ]
  },
  {
   "cell_type": "code",
   "execution_count": 9,
   "metadata": {
    "collapsed": true
   },
   "outputs": [],
   "source": [
    "conn = psycopg2.connect(\n",
    "    host='192.168.4.25',database='ecomm',\n",
    "                        user=USER,\n",
    "                        password=PASSWORD,\n",
    "                        port=5432)"
   ]
  },
  {
   "cell_type": "code",
   "execution_count": 10,
   "metadata": {
    "collapsed": true
   },
   "outputs": [
    {
     "data": {
      "text/plain": [
       "<connection object at 0x75cff717e0c0; dsn: 'user=postgres password=xxx dbname=ecomm host=192.168.4.25 port=5432', closed: 0>"
      ]
     },
     "execution_count": 10,
     "metadata": {},
     "output_type": "execute_result"
    }
   ],
   "source": [
    "conn"
   ]
  },
  {
   "cell_type": "code",
   "execution_count": 11,
   "metadata": {
    "collapsed": true
   },
   "outputs": [],
   "source": [
    "cursor = conn.cursor()"
   ]
  },
  {
   "cell_type": "code",
   "execution_count": 12,
   "metadata": {
    "collapsed": true
   },
   "outputs": [
    {
     "data": {
      "text/plain": [
       "<cursor object at 0x75cff400ea70; closed: 0>"
      ]
     },
     "execution_count": 12,
     "metadata": {},
     "output_type": "execute_result"
    }
   ],
   "source": [
    "cursor"
   ]
  },
  {
   "cell_type": "code",
   "execution_count": 13,
   "metadata": {},
   "outputs": [],
   "source": [
    "del cursor"
   ]
  },
  {
   "cell_type": "markdown",
   "metadata": {},
   "source": [
    "# "
   ]
  },
  {
   "cell_type": "code",
   "execution_count": 14,
   "metadata": {},
   "outputs": [],
   "source": [
    "def getProductsByType(db_conn,prod_type):\n",
    "    cursor = db_conn.cursor()\n",
    "    sql_string = \"SELECT * FROM products WHERE product_type = %s\"\n",
    "    cursor.execute(sql_string,[prod_type])\n",
    "    return cursor.fetchall()"
   ]
  },
  {
   "cell_type": "code",
   "execution_count": 15,
   "metadata": {},
   "outputs": [
    {
     "data": {
      "text/plain": [
       "[(1, 'Reflector oven', 'oven'),\n",
       " (2, 'Convection microwave', 'oven'),\n",
       " (15, 'Masonry oven', 'oven'),\n",
       " (24, 'Microwave oven', 'oven'),\n",
       " (32, 'Russian oven', 'oven'),\n",
       " (33, 'Clome oven', 'oven'),\n",
       " (34, 'Convection oven', 'oven'),\n",
       " (37, 'Beehive oven', 'oven'),\n",
       " (38, 'Toaster and toaster ovens', 'oven'),\n",
       " (41, 'Self-cleaning oven', 'oven'),\n",
       " (42, 'Wood-fired oven', 'oven'),\n",
       " (43, 'Kitchener range', 'oven'),\n",
       " (47, 'Oven', 'oven'),\n",
       " (48, 'Hot box (appliance)', 'oven'),\n",
       " (58, 'Tabun oven', 'oven'),\n",
       " (67, 'Chorkor oven', 'oven'),\n",
       " (72, 'Communal oven', 'oven'),\n",
       " (74, 'Halogen oven', 'oven'),\n",
       " (78, 'Stove', 'oven'),\n",
       " (80, 'Earth oven', 'oven')]"
      ]
     },
     "execution_count": 15,
     "metadata": {},
     "output_type": "execute_result"
    }
   ],
   "source": [
    "all_ovents = getProductsByType(conn,'oven')\n",
    "all_ovents"
   ]
  },
  {
   "cell_type": "code",
   "execution_count": 16,
   "metadata": {},
   "outputs": [
    {
     "data": {
      "text/plain": [
       "20"
      ]
     },
     "execution_count": 16,
     "metadata": {},
     "output_type": "execute_result"
    }
   ],
   "source": [
    "len(all_ovents)"
   ]
  },
  {
   "cell_type": "code",
   "execution_count": 17,
   "metadata": {},
   "outputs": [
    {
     "name": "stdout",
     "output_type": "stream",
     "text": [
      "[(1, 'Reflector oven', 'oven')] \n",
      "\n",
      "Fetchall count: 1\n",
      "[(2, 'Convection microwave', 'oven')] \n",
      "\n",
      "Fetchall count: 2\n",
      "[(15, 'Masonry oven', 'oven')] \n",
      "\n",
      "Fetchall count: 3\n",
      "[(24, 'Microwave oven', 'oven')] \n",
      "\n",
      "Fetchall count: 4\n",
      "[(32, 'Russian oven', 'oven')] \n",
      "\n",
      "Fetchall count: 5\n",
      "[(33, 'Clome oven', 'oven')] \n",
      "\n",
      "Fetchall count: 6\n",
      "[(34, 'Convection oven', 'oven')] \n",
      "\n",
      "Fetchall count: 7\n",
      "[(37, 'Beehive oven', 'oven')] \n",
      "\n",
      "Fetchall count: 8\n",
      "[(38, 'Toaster and toaster ovens', 'oven')] \n",
      "\n",
      "Fetchall count: 9\n",
      "[(41, 'Self-cleaning oven', 'oven')] \n",
      "\n",
      "Fetchall count: 10\n",
      "[(42, 'Wood-fired oven', 'oven')] \n",
      "\n",
      "Fetchall count: 11\n",
      "[(43, 'Kitchener range', 'oven')] \n",
      "\n",
      "Fetchall count: 12\n",
      "[(47, 'Oven', 'oven')] \n",
      "\n",
      "Fetchall count: 13\n",
      "[(48, 'Hot box (appliance)', 'oven')] \n",
      "\n",
      "Fetchall count: 14\n",
      "[(58, 'Tabun oven', 'oven')] \n",
      "\n",
      "Fetchall count: 15\n",
      "[(67, 'Chorkor oven', 'oven')] \n",
      "\n",
      "Fetchall count: 16\n",
      "[(72, 'Communal oven', 'oven')] \n",
      "\n",
      "Fetchall count: 17\n",
      "[(74, 'Halogen oven', 'oven')] \n",
      "\n",
      "Fetchall count: 18\n",
      "[(78, 'Stove', 'oven')] \n",
      "\n",
      "Fetchall count: 19\n",
      "[(80, 'Earth oven', 'oven')] \n",
      "\n",
      "Fetchall count: 20\n"
     ]
    }
   ],
   "source": [
    "cursor = conn.cursor()\n",
    "fetchall_cnt = 0\n",
    "\n",
    "for oven in all_ovents:\n",
    "    oven_id = oven[0]              # pull the first element of the tuple\n",
    "    sql_string = \"SELECT * FROM products WHERE product_id = %s\"\n",
    "    cursor.execute(sql_string,[oven_id])\n",
    "    oven_order = cursor.fetchall()\n",
    "    fetchall_cnt += 1\n",
    "    print(oven_order, \"\\n\")\n",
    "    print(\"Fetchall count: %s\" % fetchall_cnt)"
   ]
  },
  {
   "cell_type": "code",
   "execution_count": 18,
   "metadata": {},
   "outputs": [],
   "source": [
    "def getProductOrdersByType(db_conn,prod_type):\n",
    "    cursor = db_conn.cursor()\n",
    "    sql_string = \"SELECT po.* \\\n",
    "                   FROM product_orders po \\\n",
    "                    INNER JOIN products p \\\n",
    "                    ON po.product_id = p.product_id \\\n",
    "                        WHERE p.product_type = %s\"\n",
    "    cursor.execute(sql_string,[prod_type])\n",
    "    return cursor.fetchall()"
   ]
  },
  {
   "cell_type": "code",
   "execution_count": 19,
   "metadata": {},
   "outputs": [
    {
     "data": {
      "text/plain": [
       "[(2, 58, 5, Decimal('102.97')),\n",
       " (2, 80, 1, Decimal('181.54')),\n",
       " (3, 24, 5, Decimal('131.20')),\n",
       " (4, 1, 1, Decimal('296.47')),\n",
       " (5, 2, 2, Decimal('270.24')),\n",
       " (8, 42, 2, Decimal('99.52')),\n",
       " (9, 15, 3, Decimal('53.26')),\n",
       " (12, 34, 3, Decimal('251.16')),\n",
       " (12, 48, 4, Decimal('20.08')),\n",
       " (14, 72, 2, Decimal('118.64')),\n",
       " (16, 47, 1, Decimal('246.68')),\n",
       " (18, 42, 1, Decimal('281.35')),\n",
       " (21, 2, 2, Decimal('196.39')),\n",
       " (21, 48, 5, Decimal('52.86')),\n",
       " (23, 1, 4, Decimal('30.99')),\n",
       " (23, 78, 3, Decimal('245.55')),\n",
       " (24, 32, 3, Decimal('70.57')),\n",
       " (24, 78, 4, Decimal('21.83')),\n",
       " (25, 58, 4, Decimal('85.03')),\n",
       " (26, 80, 3, Decimal('30.75')),\n",
       " (27, 74, 1, Decimal('202.45')),\n",
       " (28, 34, 4, Decimal('72.18')),\n",
       " (28, 58, 2, Decimal('289.46')),\n",
       " (32, 24, 5, Decimal('60.54')),\n",
       " (35, 37, 4, Decimal('211.71')),\n",
       " (36, 24, 5, Decimal('93.13')),\n",
       " (38, 15, 2, Decimal('299.62')),\n",
       " (38, 33, 4, Decimal('236.11')),\n",
       " (38, 58, 3, Decimal('255.12')),\n",
       " (40, 33, 1, Decimal('227.86')),\n",
       " (40, 58, 2, Decimal('247.79')),\n",
       " (41, 15, 2, Decimal('158.61')),\n",
       " (41, 48, 3, Decimal('148.91')),\n",
       " (43, 48, 4, Decimal('120.45')),\n",
       " (45, 47, 1, Decimal('26.16')),\n",
       " (46, 43, 5, Decimal('207.13')),\n",
       " (46, 67, 3, Decimal('257.33')),\n",
       " (48, 47, 3, Decimal('262.16')),\n",
       " (49, 24, 4, Decimal('228.74')),\n",
       " (49, 37, 1, Decimal('162.63')),\n",
       " (50, 74, 5, Decimal('290.62')),\n",
       " (51, 37, 5, Decimal('271.15')),\n",
       " (56, 38, 4, Decimal('262.44')),\n",
       " (57, 1, 4, Decimal('124.53')),\n",
       " (58, 80, 3, Decimal('185.41')),\n",
       " (59, 48, 2, Decimal('164.11')),\n",
       " (61, 33, 2, Decimal('45.44')),\n",
       " (61, 37, 2, Decimal('256.34')),\n",
       " (62, 74, 4, Decimal('158.41')),\n",
       " (63, 1, 2, Decimal('131.79')),\n",
       " (67, 38, 5, Decimal('237.32')),\n",
       " (68, 80, 5, Decimal('175.18')),\n",
       " (69, 34, 5, Decimal('73.06')),\n",
       " (71, 34, 2, Decimal('75.19')),\n",
       " (71, 38, 5, Decimal('286.17')),\n",
       " (75, 38, 4, Decimal('96.06')),\n",
       " (77, 72, 3, Decimal('103.48')),\n",
       " (80, 58, 1, Decimal('95.93')),\n",
       " (81, 24, 2, Decimal('283.90')),\n",
       " (82, 33, 3, Decimal('29.96')),\n",
       " (82, 80, 2, Decimal('140.09')),\n",
       " (85, 48, 5, Decimal('232.08'))]"
      ]
     },
     "execution_count": 19,
     "metadata": {},
     "output_type": "execute_result"
    }
   ],
   "source": [
    "getProductOrdersByType(conn,'oven')"
   ]
  },
  {
   "cell_type": "code",
   "execution_count": 26,
   "metadata": {},
   "outputs": [],
   "source": [
    "# write function that executes an sql query to retrieve all product orders and product type is fryer\n",
    "# also quantity greader than 3\n",
    "# Do not use N+1 query\n",
    "\n",
    "def getProductOrdersByType2(db_conn,prod_type):\n",
    "    cursor = db_conn.cursor()\n",
    "    sql_string = \"SELECT p.* \\\n",
    "                    From product_orders p \\\n",
    "                    INNER JOIN products pr \\\n",
    "                    ON p.product_id = pr.product_id \\\n",
    "                    WHERE pr.product_type = %s AND p.quantity > %s\"\n",
    "    cursor.execute(sql_string,[prod_type,3])\n",
    "    return cursor.fetchall()"
   ]
  },
  {
   "cell_type": "code",
   "execution_count": 27,
   "metadata": {},
   "outputs": [
    {
     "data": {
      "text/plain": [
       "[(1, 3, 5, Decimal('72.69')),\n",
       " (11, 3, 4, Decimal('296.83')),\n",
       " (18, 26, 5, Decimal('253.36')),\n",
       " (53, 3, 5, Decimal('161.05')),\n",
       " (53, 17, 4, Decimal('125.62')),\n",
       " (59, 54, 5, Decimal('272.47')),\n",
       " (70, 3, 4, Decimal('261.91'))]"
      ]
     },
     "execution_count": 27,
     "metadata": {},
     "output_type": "execute_result"
    }
   ],
   "source": [
    "getProductOrdersByType2(conn,'fryer')"
   ]
  },
  {
   "cell_type": "code",
   "execution_count": null,
   "metadata": {},
   "outputs": [],
   "source": []
  }
 ],
 "metadata": {
  "kernelspec": {
   "display_name": "myenv",
   "language": "python",
   "name": "python3"
  },
  "language_info": {
   "codemirror_mode": {
    "name": "ipython",
    "version": 3
   },
   "file_extension": ".py",
   "mimetype": "text/x-python",
   "name": "python",
   "nbconvert_exporter": "python",
   "pygments_lexer": "ipython3",
   "version": "3.12.3"
  }
 },
 "nbformat": 4,
 "nbformat_minor": 2
}
